{
 "cells": [
  {
   "cell_type": "code",
   "execution_count": null,
   "id": "cac1e96d",
   "metadata": {},
   "outputs": [],
   "source": []
  },
  {
   "cell_type": "code",
   "execution_count": null,
   "id": "5c094999",
   "metadata": {},
   "outputs": [],
   "source": [
    "import sqlite3\n",
    "import os\n",
    "from google.adk.sessions import DatabaseSessionService\n"
   ]
  },
  {
   "cell_type": "code",
   "execution_count": null,
   "id": "a690137b",
   "metadata": {},
   "outputs": [],
   "source": [
    "absolute_db_path = '../local_data_testing/my_local_database.db'\n",
    "\n",
    "# For absolute paths on Unix-like systems (Linux/macOS):\n",
    "if os.name == 'posix': # Checks if the OS is Unix-like\n",
    "    sqlite_url = f\"sqlite:///{absolute_db_path}\"\n",
    "# For absolute paths on Windows:\n",
    "elif os.name == 'nt': # Checks if the OS is Windows\n",
    "    # Replace backslashes with forward slashes for URL compatibility\n",
    "    windows_path_for_url = absolute_db_path.replace('\\\\', '/')\n",
    "    sqlite_url = f\"sqlite:///{windows_path_for_url}\"\n",
    "else:\n",
    "    # Fallback or for other OSes, you might need to adjust\n",
    "    sqlite_url = f\"sqlite:///{absolute_db_path}\""
   ]
  },
  {
   "cell_type": "code",
   "execution_count": null,
   "id": "833108b7",
   "metadata": {},
   "outputs": [],
   "source": [
    "conn = sqlite3.connect(absolute_db_path)\n",
    "cursor = conn.cursor()\n",
    "print(\"Cursor created successfully.\")\n",
    "cursor.execute('''\n",
    "        SELECT name FROM sqlite_master WHERE type = \"table\"\n",
    "    ''')\n",
    "tables = cursor.fetchall()\n",
    "if tables:\n",
    "    print(\"Tables in the database:\")\n",
    "    for table in tables:\n",
    "        print(table[0])\n",
    "else:\n",
    "    print(\"No tables found in the database.\")\n",
    "if conn:\n",
    "    conn.close()\n",
    "    print(\"SQLite connection closed.\")"
   ]
  },
  {
   "cell_type": "code",
   "execution_count": null,
   "id": "46f43cf5",
   "metadata": {},
   "outputs": [],
   "source": [
    "session_service = DatabaseSessionService(db_url=sqlite_url)"
   ]
  },
  {
   "cell_type": "code",
   "execution_count": null,
   "id": "d6fb6e9c",
   "metadata": {},
   "outputs": [],
   "source": [
    "conn = sqlite3.connect(absolute_db_path)\n",
    "cursor = conn.cursor()\n",
    "print(\"Cursor created successfully.\")\n",
    "cursor.execute('''\n",
    "        SELECT name FROM sqlite_master WHERE type = \"table\"\n",
    "    ''')\n",
    "tables = cursor.fetchall()\n",
    "if tables:\n",
    "    print(\"Tables in the database:\")\n",
    "    for table in tables:\n",
    "        print(table[0])\n",
    "else:\n",
    "    print(\"No tables found in the database.\")\n",
    "if conn:\n",
    "    conn.close()\n",
    "    print(\"SQLite connection closed.\")\n",
    "if conn:\n",
    "    conn.close()\n",
    "    print(\"SQLite connection closed.\")"
   ]
  },
  {
   "cell_type": "code",
   "execution_count": null,
   "id": "534ec720",
   "metadata": {},
   "outputs": [],
   "source": [
    "session_service.create_session(app_name=\"data_explorer_agent\", user_id=\"test_user_123\")\n"
   ]
  },
  {
   "cell_type": "code",
   "execution_count": null,
   "id": "1cd05648",
   "metadata": {},
   "outputs": [],
   "source": [
    "conn = sqlite3.connect(absolute_db_path)\n",
    "\n",
    "cursor = conn.cursor()\n",
    "print(\"Cursor created successfully.\")\n",
    "cursor.execute('''\n",
    "        SELECT * FROM sessions\n",
    "    ''')\n",
    "sessions = cursor.fetchall()\n",
    "if sessions:\n",
    "    print(\"Sessions in the database:\")\n",
    "    for session in sessions:\n",
    "        print(session)\n",
    "else:\n",
    "    print(\"No sessions found in the database.\")\n",
    "\n",
    "if conn:\n",
    "    conn.close()\n",
    "    print(\"SQLite connection closed.\")"
   ]
  },
  {
   "cell_type": "code",
   "execution_count": null,
   "id": "b2a1c672",
   "metadata": {},
   "outputs": [],
   "source": []
  },
  {
   "cell_type": "code",
   "execution_count": null,
   "id": "4da82bcd",
   "metadata": {},
   "outputs": [],
   "source": []
  },
  {
   "cell_type": "code",
   "execution_count": null,
   "id": "88a346c8",
   "metadata": {},
   "outputs": [],
   "source": [
    "# Testing connection"
   ]
  },
  {
   "cell_type": "code",
   "execution_count": null,
   "id": "5ba3803d",
   "metadata": {},
   "outputs": [],
   "source": []
  },
  {
   "cell_type": "code",
   "execution_count": null,
   "id": "0ff9bd9e",
   "metadata": {},
   "outputs": [],
   "source": []
  }
 ],
 "metadata": {
  "kernelspec": {
   "display_name": ".venv",
   "language": "python",
   "name": "python3"
  },
  "language_info": {
   "codemirror_mode": {
    "name": "ipython",
    "version": 3
   },
   "file_extension": ".py",
   "mimetype": "text/x-python",
   "name": "python",
   "nbconvert_exporter": "python",
   "pygments_lexer": "ipython3",
   "version": "3.12.8"
  }
 },
 "nbformat": 4,
 "nbformat_minor": 5
}
