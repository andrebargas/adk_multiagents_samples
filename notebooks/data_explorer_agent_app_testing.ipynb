{
 "cells": [
  {
   "cell_type": "code",
   "execution_count": null,
   "metadata": {},
   "outputs": [],
   "source": [
    "#  Copyright 2025 Google LLC. This software is provided as-is, without warranty\n",
    "#  or representation for any use or purpose. Your use of it is subject to your\n",
    "#  agreement with Google."
   ]
  },
  {
   "cell_type": "markdown",
   "metadata": {},
   "source": [
    "# ADK Application Testing\n",
    "\n",
    "This notebook demonstrates how to test an ADK (Agent Development Kit) application.\n",
    "It covers both local and remote testing, both with Agent Engine and Cloud Run.\n"
   ]
  },
  {
   "cell_type": "markdown",
   "metadata": {},
   "source": [
    "### Import libraries"
   ]
  },
  {
   "cell_type": "code",
   "execution_count": 2,
   "metadata": {},
   "outputs": [],
   "source": [
    "import json\n",
    "import pprint\n",
    "import requests\n",
    "from functools import partial\n",
    "import vertexai.agent_engines\n",
    "\n",
    "# Getting better output prints \n",
    "pretty_print = partial(pprint.pprint, width=140)"
   ]
  },
  {
   "cell_type": "markdown",
   "metadata": {},
   "source": [
    "See more documentation at [Agent Engine Overview](https://cloud.google.com/vertex-ai/generative-ai/docs/agent-engine/overview)"
   ]
  },
  {
   "cell_type": "markdown",
   "metadata": {},
   "source": [
    "### Local Testing\n",
    "\n",
    "You can import directly the AgentEngineApp class within your environment. "
   ]
  },
  {
   "cell_type": "code",
   "execution_count": null,
   "metadata": {},
   "outputs": [],
   "source": [
    "from data_explorer_agent.agent import root_agent\n",
    "from data_explorer_agent.agent_engine_app import AgentEngineApp\n",
    "\n",
    "agent_engine = AgentEngineApp(agent=root_agent)"
   ]
  },
  {
   "cell_type": "code",
   "execution_count": null,
   "metadata": {},
   "outputs": [],
   "source": []
  },
  {
   "cell_type": "code",
   "execution_count": 15,
   "metadata": {},
   "outputs": [
    {
     "name": "stderr",
     "output_type": "stream",
     "text": [
      "WARNING:opentelemetry.trace:Overriding of current TracerProvider is not allowed\n"
     ]
    },
    {
     "name": "stdout",
     "output_type": "stream",
     "text": [
      "{'actions': {'artifact_delta': {},\n",
      "             'requested_auth_configs': {},\n",
      "             'state_delta': {'data_store_context': '\\n'\n",
      "                                                   '**Documents Information Available:**\\n'\n",
      "                                                   '* \"THE MAGIC OF NAMES - THEIR ORIGIN AND MEANING\". This document is a source for '\n",
      "                                                   'information regarding the etymology, historical significance, \\n'\n",
      "                                                   'and cultural meanings of various names.\\n'\n",
      "                                                   '* Indexed website, specifically \"https://www.names.org/\". This website serves as a '\n",
      "                                                   'broad online resource for details about names, such as their \\n'\n",
      "                                                   'meanings, origins, historical and current popularity trends, and often includes lists '\n",
      "                                                   'of related or similar names.\\n',\n",
      "                             'database_settings': {'bq_dataset_id': 'usa_names',\n",
      "                                                   'bq_ddl_schema': 'CREATE OR REPLACE TABLE '\n",
      "                                                                    '`bigquery-public-data.usa_names.usa_1910_2013` (\\n'\n",
      "                                                                    \"  `state` STRING COMMENT '2-digit state code',\\n\"\n",
      "                                                                    \"  `gender` STRING COMMENT 'Sex (M=male or F=female)',\\n\"\n",
      "                                                                    \"  `year` INTEGER COMMENT '4-digit year of birth',\\n\"\n",
      "                                                                    \"  `name` STRING COMMENT 'Given name of a person at birth',\\n\"\n",
      "                                                                    \"  `number` INTEGER COMMENT 'Number of occurrences of the name'\\n\"\n",
      "                                                                    ');\\n'\n",
      "                                                                    '\\n'\n",
      "                                                                    '-- Example values for table '\n",
      "                                                                    '`bigquery-public-data.usa_names.usa_1910_2013`:\\n'\n",
      "                                                                    'INSERT INTO `bigquery-public-data.usa_names.usa_1910_2013` VALUES\\n'\n",
      "                                                                    \"('AL','F',1910,'Sadie',40);\\n\"\n",
      "                                                                    '\\n'\n",
      "                                                                    'INSERT INTO `bigquery-public-data.usa_names.usa_1910_2013` VALUES\\n'\n",
      "                                                                    \"('AL','F',1910,'Mary',875);\\n\"\n",
      "                                                                    '\\n'\n",
      "                                                                    'INSERT INTO `bigquery-public-data.usa_names.usa_1910_2013` VALUES\\n'\n",
      "                                                                    \"('AR','F',1910,'Vera',39);\\n\"\n",
      "                                                                    '\\n'\n",
      "                                                                    'INSERT INTO `bigquery-public-data.usa_names.usa_1910_2013` VALUES\\n'\n",
      "                                                                    \"('AR','F',1910,'Marie',78);\\n\"\n",
      "                                                                    '\\n'\n",
      "                                                                    'INSERT INTO `bigquery-public-data.usa_names.usa_1910_2013` VALUES\\n'\n",
      "                                                                    \"('AR','F',1910,'Lucille',66);\\n\"\n",
      "                                                                    '\\n'\n",
      "                                                                    'CREATE OR REPLACE TABLE '\n",
      "                                                                    '`bigquery-public-data.usa_names.usa_1910_current` (\\n'\n",
      "                                                                    \"  `state` STRING COMMENT '2-digit state code',\\n\"\n",
      "                                                                    \"  `gender` STRING COMMENT 'Sex (M=male or F=female)',\\n\"\n",
      "                                                                    \"  `year` INTEGER COMMENT '4-digit year of birth',\\n\"\n",
      "                                                                    \"  `name` STRING COMMENT 'Given name of a person at birth',\\n\"\n",
      "                                                                    \"  `number` INTEGER COMMENT 'Number of occurrences of the name'\\n\"\n",
      "                                                                    ');\\n'\n",
      "                                                                    '\\n'\n",
      "                                                                    '-- Example values for table '\n",
      "                                                                    '`bigquery-public-data.usa_names.usa_1910_current`:\\n'\n",
      "                                                                    'INSERT INTO `bigquery-public-data.usa_names.usa_1910_current` VALUES\\n'\n",
      "                                                                    \"('AK','F',1910,'Mary',14);\\n\"\n",
      "                                                                    '\\n'\n",
      "                                                                    'INSERT INTO `bigquery-public-data.usa_names.usa_1910_current` VALUES\\n'\n",
      "                                                                    \"('AK','F',1910,'Annie',12);\\n\"\n",
      "                                                                    '\\n'\n",
      "                                                                    'INSERT INTO `bigquery-public-data.usa_names.usa_1910_current` VALUES\\n'\n",
      "                                                                    \"('AK','F',1910,'Anna',10);\\n\"\n",
      "                                                                    '\\n'\n",
      "                                                                    'INSERT INTO `bigquery-public-data.usa_names.usa_1910_current` VALUES\\n'\n",
      "                                                                    \"('AK','F',1910,'Margaret',8);\\n\"\n",
      "                                                                    '\\n'\n",
      "                                                                    'INSERT INTO `bigquery-public-data.usa_names.usa_1910_current` VALUES\\n'\n",
      "                                                                    \"('AK','F',1910,'Helen',7);\\n\"\n",
      "                                                                    '\\n',\n",
      "                                                   'bq_project_id': 'bigquery-public-data',\n",
      "                                                   'generate_sql_type': 'dc',\n",
      "                                                   'model': None,\n",
      "                                                   'number_of_candidates': 1,\n",
      "                                                   'process_input_errors': True,\n",
      "                                                   'process_tool_output_errors': True,\n",
      "                                                   'temperature': 0.5,\n",
      "                                                   'transpile_to_bigquery': True}}},\n",
      " 'author': 'root_agent',\n",
      " 'id': 'FaHdx5Hf',\n",
      " 'invocation_id': 'e-8f248014-4630-46dd-b11b-7005345904f2',\n",
      " 'timestamp': 1746727043.273728}\n",
      "{'actions': {'artifact_delta': {}, 'requested_auth_configs': {}, 'state_delta': {}},\n",
      " 'author': 'root_agent',\n",
      " 'content': {'parts': [{'text': 'Hello! How can I help you with data analysis or information retrieval today? I can access information '\n",
      "                                'about names from a SQL database containing US names from 1910 to the present, as well as documents about '\n",
      "                                'name origins and meanings.\\n'}],\n",
      "             'role': 'model'},\n",
      " 'id': '5g67GWCm',\n",
      " 'invocation_id': 'e-8f248014-4630-46dd-b11b-7005345904f2',\n",
      " 'timestamp': 1746727043.274502}\n"
     ]
    }
   ],
   "source": [
    "# Query agent with streaming query result\n",
    "\n",
    "for event in agent_engine.stream_query(message=\"hi!\", user_id=\"test\"):\n",
    "    pretty_print(event)"
   ]
  },
  {
   "cell_type": "code",
   "execution_count": 16,
   "metadata": {},
   "outputs": [
    {
     "name": "stdout",
     "output_type": "stream",
     "text": [
      "('Hello! How can I help you with data analysis or information retrieval today? I can access information about names from a SQL database '\n",
      " 'containing US names from 1910 to the present, as well as documents about name origins and meanings.\\n')\n"
     ]
    }
   ],
   "source": [
    "pretty_print(event['content']['parts'][0]['text'])"
   ]
  },
  {
   "cell_type": "code",
   "execution_count": 17,
   "metadata": {},
   "outputs": [
    {
     "data": {
      "text/plain": [
       "[Session(id='e921e0b5-56e6-4dd7-8dfa-27d87a3c8170', app_name='default-app-name', user_id='test', state={}, events=[], last_update_time=1746727043.274502)]"
      ]
     },
     "execution_count": 17,
     "metadata": {},
     "output_type": "execute_result"
    }
   ],
   "source": [
    "# Running a folow up question to the greting message\n",
    "\n",
    "# First lets check what are the active sessions for my user...\n",
    "sessions = agent_engine.list_sessions(user_id='test')\n",
    "sessions.sessions"
   ]
  },
  {
   "cell_type": "code",
   "execution_count": 18,
   "metadata": {},
   "outputs": [
    {
     "name": "stderr",
     "output_type": "stream",
     "text": [
      "WARNING:google_genai.types:Warning: there are non-text parts in the response: ['function_call'],returning concatenated text result from text parts,check out the non text parts for full response from model.\n"
     ]
    },
    {
     "name": "stdout",
     "output_type": "stream",
     "text": [
      "{'actions': {'artifact_delta': {}, 'requested_auth_configs': {}, 'state_delta': {}},\n",
      " 'author': 'root_agent',\n",
      " 'content': {'parts': [{'text': 'I need to find the most popular male name in 1994 first. After that, I will use the document data store '\n",
      "                                'to find the meaning of the name.\\n'\n",
      "                                '\\n'},\n",
      "                       {'function_call': {'args': {'question': 'What was the most popular male name in the USA in 1994?'},\n",
      "                                          'id': 'adk-8a63703f-4640-4b82-bbf3-2b62e0b70041',\n",
      "                                          'name': 'call_db_agent'}}],\n",
      "             'role': 'model'},\n",
      " 'id': 'lEtEvy2D',\n",
      " 'invocation_id': 'e-9f245920-8913-49ef-afa0-2f55c9a9aa44',\n",
      " 'long_running_tool_ids': set(),\n",
      " 'timestamp': 1746727063.059891}\n"
     ]
    },
    {
     "name": "stderr",
     "output_type": "stream",
     "text": [
      "WARNING:google_genai.types:Warning: there are non-text parts in the response: ['function_call'],returning concatenated text result from text parts,check out the non text parts for full response from model.\n"
     ]
    },
    {
     "name": "stdout",
     "output_type": "stream",
     "text": [
      "\n",
      " sql: Here's how to construct the SQL query to answer the question:\n",
      "\n",
      "1.  **Determine the Table:** The question asks about names in the USA, and the table `bigquery-public-data.usa_names.usa_1910_2013` and `bigquery-public-data.usa_names.usa_1910_current` seems relevant. Since the question asks about the year 1994, and both tables contain data for that year, we can use either table. For simplicity, I will use `bigquery-public-data.usa_names.usa_1910_2013`.\n",
      "2.  **Filter for the Year and Gender:** We need to filter the data for the year 1994 and the male gender ('M').\n",
      "3.  **Aggregate to Find Popularity:** We need to group by name and sum the number of occurrences to find the total number of occurrences for each name.\n",
      "4.  **Order and Limit:** We need to order the results by the total number of occurrences in descending order and limit the result to the top 1 to find the most popular name.\n",
      "\n",
      "\n",
      "SELECT\n",
      "    `name`\n",
      "  FROM\n",
      "    `bigquery-public-data.usa_names.usa_1910_2013`\n",
      "  WHERE year = 1994\n",
      "   AND gender = 'M'\n",
      "  GROUP BY 1\n",
      "ORDER BY\n",
      "  sum(`number`) DESC\n",
      "LIMIT 1\n"
     ]
    },
    {
     "name": "stderr",
     "output_type": "stream",
     "text": [
      "WARNING:google_genai.types:Warning: there are non-text parts in the response: ['function_call'],returning concatenated text result from text parts,check out the non text parts for full response from model.\n"
     ]
    },
    {
     "name": "stdout",
     "output_type": "stream",
     "text": [
      "\n",
      " run_bigquery_validation final_result: \n",
      " {'query_result': [{'name': 'Michael'}], 'error_message': None}\n",
      "{'actions': {'artifact_delta': {},\n",
      "             'requested_auth_configs': {},\n",
      "             'state_delta': {'query_result': [{'name': 'Michael'}],\n",
      "                             'sql_explorer_agent_output': '```json\\n'\n",
      "                                                          '{\\n'\n",
      "                                                          '  \"explain\": \"The question asks for the most popular male name in the USA in '\n",
      "                                                          '1994. I first generated an SQL query to retrieve the most popular male name '\n",
      "                                                          'from the `bigquery-public-data.usa_names.usa_1910_2013` table, filtering by '\n",
      "                                                          \"year 1994 and gender 'M', grouping by name, ordering by the sum of the number \"\n",
      "                                                          'of occurrences in descending order, and limiting the result to the top 1. Then '\n",
      "                                                          'I validated the generated SQL query and confirmed that it returned the correct '\n",
      "                                                          'result.\",\\n'\n",
      "                                                          '  \"sql\": \"SELECT\\\\n    `name`\\\\n  FROM\\\\n    '\n",
      "                                                          '`bigquery-public-data.usa_names.usa_1910_2013`\\\\n  WHERE year = 1994\\\\n   AND '\n",
      "                                                          \"gender = \\\\'M\\\\'\\\\n  GROUP BY 1\\\\nORDER BY\\\\n  sum(`number`) DESC\\\\nLIMIT \"\n",
      "                                                          '1\",\\n'\n",
      "                                                          '  \"sql_results\": \"[{\\'name\\': \\'Michael\\'}]\",\\n'\n",
      "                                                          '  \"nl_results\": \"The most popular male name in the USA in 1994 was Michael.\"\\n'\n",
      "                                                          '}\\n'\n",
      "                                                          '```',\n",
      "                             'sql_query': \"Here's how to construct the SQL query to answer the question:\\n\"\n",
      "                                          '\\n'\n",
      "                                          '1.  **Determine the Table:** The question asks about names in the USA, and the table '\n",
      "                                          '`bigquery-public-data.usa_names.usa_1910_2013` and '\n",
      "                                          '`bigquery-public-data.usa_names.usa_1910_current` seems relevant. Since the question asks about '\n",
      "                                          'the year 1994, and both tables contain data for that year, we can use either table. For '\n",
      "                                          'simplicity, I will use `bigquery-public-data.usa_names.usa_1910_2013`.\\n'\n",
      "                                          '2.  **Filter for the Year and Gender:** We need to filter the data for the year 1994 and the '\n",
      "                                          \"male gender ('M').\\n\"\n",
      "                                          '3.  **Aggregate to Find Popularity:** We need to group by name and sum the number of '\n",
      "                                          'occurrences to find the total number of occurrences for each name.\\n'\n",
      "                                          '4.  **Order and Limit:** We need to order the results by the total number of occurrences in '\n",
      "                                          'descending order and limit the result to the top 1 to find the most popular name.\\n'\n",
      "                                          '\\n'\n",
      "                                          '\\n'\n",
      "                                          'SELECT\\n'\n",
      "                                          '    `name`\\n'\n",
      "                                          '  FROM\\n'\n",
      "                                          '    `bigquery-public-data.usa_names.usa_1910_2013`\\n'\n",
      "                                          '  WHERE year = 1994\\n'\n",
      "                                          \"   AND gender = 'M'\\n\"\n",
      "                                          '  GROUP BY 1\\n'\n",
      "                                          'ORDER BY\\n'\n",
      "                                          '  sum(`number`) DESC\\n'\n",
      "                                          'LIMIT 1'}},\n",
      " 'author': 'root_agent',\n",
      " 'content': {'parts': [{'function_response': {'id': 'adk-8a63703f-4640-4b82-bbf3-2b62e0b70041',\n",
      "                                              'name': 'call_db_agent',\n",
      "                                              'response': {'result': '```json\\n'\n",
      "                                                                     '{\\n'\n",
      "                                                                     '  \"explain\": \"The question asks for the most popular male name in '\n",
      "                                                                     'the USA in 1994. I first generated an SQL query to retrieve the most '\n",
      "                                                                     'popular male name from the '\n",
      "                                                                     '`bigquery-public-data.usa_names.usa_1910_2013` table, filtering by '\n",
      "                                                                     \"year 1994 and gender 'M', grouping by name, ordering by the sum of \"\n",
      "                                                                     'the number of occurrences in descending order, and limiting the '\n",
      "                                                                     'result to the top 1. Then I validated the generated SQL query and '\n",
      "                                                                     'confirmed that it returned the correct result.\",\\n'\n",
      "                                                                     '  \"sql\": \"SELECT\\\\n    `name`\\\\n  FROM\\\\n    '\n",
      "                                                                     '`bigquery-public-data.usa_names.usa_1910_2013`\\\\n  WHERE year = '\n",
      "                                                                     \"1994\\\\n   AND gender = \\\\'M\\\\'\\\\n  GROUP BY 1\\\\nORDER BY\\\\n  \"\n",
      "                                                                     'sum(`number`) DESC\\\\nLIMIT 1\",\\n'\n",
      "                                                                     '  \"sql_results\": \"[{\\'name\\': \\'Michael\\'}]\",\\n'\n",
      "                                                                     '  \"nl_results\": \"The most popular male name in the USA in 1994 was '\n",
      "                                                                     'Michael.\"\\n'\n",
      "                                                                     '}\\n'\n",
      "                                                                     '```'}}}],\n",
      "             'role': 'user'},\n",
      " 'id': 'tFbtAwYz',\n",
      " 'invocation_id': 'e-9f245920-8913-49ef-afa0-2f55c9a9aa44',\n",
      " 'timestamp': 1746727085.88503}\n"
     ]
    },
    {
     "name": "stderr",
     "output_type": "stream",
     "text": [
      "WARNING:google_genai.types:Warning: there are non-text parts in the response: ['function_call'],returning concatenated text result from text parts,check out the non text parts for full response from model.\n",
      "I0000 00:00:1746727088.476572 6795252 fork_posix.cc:75] Other threads are currently calling into gRPC, skipping fork() handlers\n"
     ]
    },
    {
     "name": "stdout",
     "output_type": "stream",
     "text": [
      "{'actions': {'artifact_delta': {}, 'requested_auth_configs': {}, 'state_delta': {}},\n",
      " 'author': 'root_agent',\n",
      " 'content': {'parts': [{'text': \"The most popular male name in the USA in 1994 was Michael. Now, let's find out the meaning of the name \"\n",
      "                                'Michael.\\n'\n",
      "                                '\\n'},\n",
      "                       {'function_call': {'args': {'question': 'meaning of the name Michael'},\n",
      "                                          'id': 'adk-9cd5a3b5-f6c1-49e0-be23-0782e2d3b79e',\n",
      "                                          'name': 'call_document_explorer_agent'}}],\n",
      "             'role': 'model'},\n",
      " 'id': 'KfcC4419',\n",
      " 'invocation_id': 'e-9f245920-8913-49ef-afa0-2f55c9a9aa44',\n",
      " 'long_running_tool_ids': set(),\n",
      " 'timestamp': 1746727085.887081}\n",
      "{'actions': {'artifact_delta': {},\n",
      "             'requested_auth_configs': {},\n",
      "             'state_delta': {'documents_explorer_agent_output': 'The meaning of the name Michael is \"Who is like God?\".\\n'\n",
      "                                                                '\\n'\n",
      "                                                                'Citations:\\n'\n",
      "                                                                '* THE MAGIC OF NAMES - THEIR ORIGIN AND MEANING'}},\n",
      " 'author': 'root_agent',\n",
      " 'content': {'parts': [{'function_response': {'id': 'adk-9cd5a3b5-f6c1-49e0-be23-0782e2d3b79e',\n",
      "                                              'name': 'call_document_explorer_agent',\n",
      "                                              'response': {'result': 'The meaning of the name Michael is \"Who is like God?\".\\n'\n",
      "                                                                     '\\n'\n",
      "                                                                     'Citations:\\n'\n",
      "                                                                     '* THE MAGIC OF NAMES - THEIR ORIGIN AND MEANING'}}}],\n",
      "             'role': 'user'},\n",
      " 'id': 'tL9EsPW6',\n",
      " 'invocation_id': 'e-9f245920-8913-49ef-afa0-2f55c9a9aa44',\n",
      " 'timestamp': 1746727092.366331}\n",
      "{'actions': {'artifact_delta': {}, 'requested_auth_configs': {}, 'state_delta': {}},\n",
      " 'author': 'root_agent',\n",
      " 'content': {'parts': [{'text': '**Result:**\\n'\n",
      "                                'The most popular male name in the USA in 1994 was Michael, and its meaning is \"Who is like God?\".\\n'\n",
      "                                '\\n'\n",
      "                                '**Explanation:**\\n'\n",
      "                                '1.  I first used the `call_db_agent` to query the SQL database to find the most popular male name in '\n",
      "                                '1994. The SQL query returned \"Michael\".\\n'\n",
      "                                '2.  Then, I used the `call_document_explorer_agent` to search for the meaning of the name \"Michael\" in '\n",
      "                                'the available documents. The document search returned the meaning \"Who is like God?\".\\n'}],\n",
      "             'role': 'model'},\n",
      " 'id': 'GiXOnATO',\n",
      " 'invocation_id': 'e-9f245920-8913-49ef-afa0-2f55c9a9aa44',\n",
      " 'timestamp': 1746727092.367901}\n"
     ]
    }
   ],
   "source": [
    "latest_session =  sessions.sessions[-1].id #Getting the lastest session\n",
    "\n",
    "for event in agent_engine.stream_query(message=\"What is the meaning of the most popular male name in 1994?\", user_id=\"test\", session_id=latest_session):\n",
    "    pretty_print(event, width=140)"
   ]
  },
  {
   "cell_type": "code",
   "execution_count": 19,
   "metadata": {},
   "outputs": [
    {
     "name": "stderr",
     "output_type": "stream",
     "text": [
      "WARNING:google_genai.types:Warning: there are non-text parts in the response: ['function_call'],returning concatenated text result from text parts,check out the non text parts for full response from model.\n",
      "I0000 00:00:1746727097.713501 6796853 fork_posix.cc:75] Other threads are currently calling into gRPC, skipping fork() handlers\n"
     ]
    },
    {
     "name": "stdout",
     "output_type": "stream",
     "text": [
      "{'actions': {'artifact_delta': {}, 'requested_auth_configs': {}, 'state_delta': {}},\n",
      " 'author': 'root_agent',\n",
      " 'content': {'parts': [{'text': 'I need to find the most popular female name in 1994 first. After that, I will use the document data store '\n",
      "                                'to find the meaning of the name.\\n'\n",
      "                                '\\n'},\n",
      "                       {'function_call': {'args': {'question': 'What was the most popular female name in the USA in 1994?'},\n",
      "                                          'id': 'adk-0f185077-4dc0-486c-bcb4-d66e7acd68b4',\n",
      "                                          'name': 'call_db_agent'}}],\n",
      "             'role': 'model'},\n",
      " 'id': '4vLLLJ9N',\n",
      " 'invocation_id': 'e-64c4472e-b5d1-4ef9-890e-3bd3a4cbdb42',\n",
      " 'long_running_tool_ids': set(),\n",
      " 'timestamp': 1746727095.208529}\n"
     ]
    },
    {
     "name": "stderr",
     "output_type": "stream",
     "text": [
      "WARNING:google_genai.types:Warning: there are non-text parts in the response: ['function_call'],returning concatenated text result from text parts,check out the non text parts for full response from model.\n"
     ]
    },
    {
     "name": "stdout",
     "output_type": "stream",
     "text": [
      "\n",
      " sql: Here's how to construct the SQL query to answer the question:\n",
      "\n",
      "1.  **Identify the table:** The question is about names in the USA, and the table `bigquery-public-data.usa_names.usa_1910_2013` and `bigquery-public-data.usa_names.usa_1910_current` seems relevant. Since the question asks about the year 1994, and both tables contain data for that year, we should use both tables and combine the results.\n",
      "2.  **Filter by year and gender:** We need to filter the data for the year 1994 and for female names (gender = 'F').\n",
      "3.  **Aggregate to find the most popular name:** We need to group by name and sum the number of occurrences to find the total number of occurrences for each name.\n",
      "4.  **Order and limit to find the most popular:** We need to order the results by the total number of occurrences in descending order and limit the result to 1 to find the most popular name.\n",
      "5.  **Combine the two tables:** Use a `UNION ALL` to combine the results from the two tables.\n",
      "\n",
      "\n",
      "SELECT\n",
      "    name\n",
      "  FROM\n",
      "    (\n",
      "      SELECT\n",
      "          `usa_1910_2013`.name AS name,\n",
      "          SUM(`usa_1910_2013`.number) AS total_number\n",
      "        FROM\n",
      "          `bigquery-public-data.usa_names.usa_1910_2013` AS `usa_1910_2013`\n",
      "        WHERE `usa_1910_2013`.year = 1994\n",
      "         AND `usa_1910_2013`.gender = 'F'\n",
      "        GROUP BY 1\n",
      "      UNION ALL\n",
      "      SELECT\n",
      "          `usa_1910_current`.name AS name,\n",
      "          SUM(`usa_1910_current`.number) AS total_number\n",
      "        FROM\n",
      "          `bigquery-public-data.usa_names.usa_1910_current` AS `usa_1910_current`\n",
      "        WHERE `usa_1910_current`.year = 1994\n",
      "         AND `usa_1910_current`.gender = 'F'\n",
      "        GROUP BY 1\n",
      "    )\n",
      "  GROUP BY 1\n",
      "ORDER BY\n",
      "  sum(total_number) DESC\n",
      "LIMIT 1\n"
     ]
    },
    {
     "name": "stderr",
     "output_type": "stream",
     "text": [
      "WARNING:google_genai.types:Warning: there are non-text parts in the response: ['function_call'],returning concatenated text result from text parts,check out the non text parts for full response from model.\n"
     ]
    },
    {
     "name": "stdout",
     "output_type": "stream",
     "text": [
      "\n",
      " run_bigquery_validation final_result: \n",
      " {'query_result': [{'name': 'Jessica'}], 'error_message': None}\n",
      "{'actions': {'artifact_delta': {},\n",
      "             'requested_auth_configs': {},\n",
      "             'state_delta': {'query_result': [{'name': 'Jessica'}],\n",
      "                             'sql_explorer_agent_output': '```json\\n'\n",
      "                                                          '{\\n'\n",
      "                                                          '\"explain\": \"I have validated the SQL query using the run_bigquery_validation '\n",
      "                                                          'tool and it is valid. The result shows that the most popular female name in the '\n",
      "                                                          'USA in 1994 was Jessica.\",\\n'\n",
      "                                                          '\"sql\": \"SELECT\\\\n    name\\\\n  FROM\\\\n    (\\\\n      SELECT\\\\n          '\n",
      "                                                          '`usa_1910_2013`.name AS name,\\\\n          SUM(`usa_1910_2013`.number) AS '\n",
      "                                                          'total_number\\\\n        FROM\\\\n          '\n",
      "                                                          '`bigquery-public-data.usa_names.usa_1910_2013` AS `usa_1910_2013`\\\\n        '\n",
      "                                                          'WHERE `usa_1910_2013`.year = 1994\\\\n         AND `usa_1910_2013`.gender = '\n",
      "                                                          \"'F'\\\\n        GROUP BY 1\\\\n      UNION ALL\\\\n      SELECT\\\\n          \"\n",
      "                                                          '`usa_1910_current`.name AS name,\\\\n          SUM(`usa_1910_current`.number) AS '\n",
      "                                                          'total_number\\\\n        FROM\\\\n          '\n",
      "                                                          '`bigquery-public-data.usa_names.usa_1910_current` AS '\n",
      "                                                          '`usa_1910_current`\\\\n        WHERE `usa_1910_current`.year = 1994\\\\n         '\n",
      "                                                          \"AND `usa_1910_current`.gender = 'F'\\\\n        GROUP BY 1\\\\n    )\\\\n  GROUP BY \"\n",
      "                                                          '1\\\\nORDER BY\\\\n  sum(total_number) DESC\\\\nLIMIT 1\",\\n'\n",
      "                                                          '\"sql_results\": \"[{\\'name\\': \\'Jessica\\'}]\",\\n'\n",
      "                                                          '\"nl_results\": \"The most popular female name in the USA in 1994 was Jessica.\"\\n'\n",
      "                                                          '}\\n'\n",
      "                                                          '```',\n",
      "                             'sql_query': \"Here's how to construct the SQL query to answer the question:\\n\"\n",
      "                                          '\\n'\n",
      "                                          '1.  **Identify the table:** The question is about names in the USA, and the table '\n",
      "                                          '`bigquery-public-data.usa_names.usa_1910_2013` and '\n",
      "                                          '`bigquery-public-data.usa_names.usa_1910_current` seems relevant. Since the question asks about '\n",
      "                                          'the year 1994, and both tables contain data for that year, we should use both tables and '\n",
      "                                          'combine the results.\\n'\n",
      "                                          '2.  **Filter by year and gender:** We need to filter the data for the year 1994 and for female '\n",
      "                                          \"names (gender = 'F').\\n\"\n",
      "                                          '3.  **Aggregate to find the most popular name:** We need to group by name and sum the number of '\n",
      "                                          'occurrences to find the total number of occurrences for each name.\\n'\n",
      "                                          '4.  **Order and limit to find the most popular:** We need to order the results by the total '\n",
      "                                          'number of occurrences in descending order and limit the result to 1 to find the most popular '\n",
      "                                          'name.\\n'\n",
      "                                          '5.  **Combine the two tables:** Use a `UNION ALL` to combine the results from the two tables.\\n'\n",
      "                                          '\\n'\n",
      "                                          '\\n'\n",
      "                                          'SELECT\\n'\n",
      "                                          '    name\\n'\n",
      "                                          '  FROM\\n'\n",
      "                                          '    (\\n'\n",
      "                                          '      SELECT\\n'\n",
      "                                          '          `usa_1910_2013`.name AS name,\\n'\n",
      "                                          '          SUM(`usa_1910_2013`.number) AS total_number\\n'\n",
      "                                          '        FROM\\n'\n",
      "                                          '          `bigquery-public-data.usa_names.usa_1910_2013` AS `usa_1910_2013`\\n'\n",
      "                                          '        WHERE `usa_1910_2013`.year = 1994\\n'\n",
      "                                          \"         AND `usa_1910_2013`.gender = 'F'\\n\"\n",
      "                                          '        GROUP BY 1\\n'\n",
      "                                          '      UNION ALL\\n'\n",
      "                                          '      SELECT\\n'\n",
      "                                          '          `usa_1910_current`.name AS name,\\n'\n",
      "                                          '          SUM(`usa_1910_current`.number) AS total_number\\n'\n",
      "                                          '        FROM\\n'\n",
      "                                          '          `bigquery-public-data.usa_names.usa_1910_current` AS `usa_1910_current`\\n'\n",
      "                                          '        WHERE `usa_1910_current`.year = 1994\\n'\n",
      "                                          \"         AND `usa_1910_current`.gender = 'F'\\n\"\n",
      "                                          '        GROUP BY 1\\n'\n",
      "                                          '    )\\n'\n",
      "                                          '  GROUP BY 1\\n'\n",
      "                                          'ORDER BY\\n'\n",
      "                                          '  sum(total_number) DESC\\n'\n",
      "                                          'LIMIT 1'}},\n",
      " 'author': 'root_agent',\n",
      " 'content': {'parts': [{'function_response': {'id': 'adk-0f185077-4dc0-486c-bcb4-d66e7acd68b4',\n",
      "                                              'name': 'call_db_agent',\n",
      "                                              'response': {'result': '```json\\n'\n",
      "                                                                     '{\\n'\n",
      "                                                                     '\"explain\": \"I have validated the SQL query using the '\n",
      "                                                                     'run_bigquery_validation tool and it is valid. The result shows that '\n",
      "                                                                     'the most popular female name in the USA in 1994 was Jessica.\",\\n'\n",
      "                                                                     '\"sql\": \"SELECT\\\\n    name\\\\n  FROM\\\\n    (\\\\n      '\n",
      "                                                                     'SELECT\\\\n          `usa_1910_2013`.name AS name,\\\\n          '\n",
      "                                                                     'SUM(`usa_1910_2013`.number) AS total_number\\\\n        '\n",
      "                                                                     'FROM\\\\n          `bigquery-public-data.usa_names.usa_1910_2013` AS '\n",
      "                                                                     '`usa_1910_2013`\\\\n        WHERE `usa_1910_2013`.year = '\n",
      "                                                                     \"1994\\\\n         AND `usa_1910_2013`.gender = 'F'\\\\n        GROUP BY \"\n",
      "                                                                     '1\\\\n      UNION ALL\\\\n      SELECT\\\\n          '\n",
      "                                                                     '`usa_1910_current`.name AS name,\\\\n          '\n",
      "                                                                     'SUM(`usa_1910_current`.number) AS total_number\\\\n        '\n",
      "                                                                     'FROM\\\\n          `bigquery-public-data.usa_names.usa_1910_current` '\n",
      "                                                                     'AS `usa_1910_current`\\\\n        WHERE `usa_1910_current`.year = '\n",
      "                                                                     \"1994\\\\n         AND `usa_1910_current`.gender = 'F'\\\\n        GROUP \"\n",
      "                                                                     'BY 1\\\\n    )\\\\n  GROUP BY 1\\\\nORDER BY\\\\n  sum(total_number) '\n",
      "                                                                     'DESC\\\\nLIMIT 1\",\\n'\n",
      "                                                                     '\"sql_results\": \"[{\\'name\\': \\'Jessica\\'}]\",\\n'\n",
      "                                                                     '\"nl_results\": \"The most popular female name in the USA in 1994 was '\n",
      "                                                                     'Jessica.\"\\n'\n",
      "                                                                     '}\\n'\n",
      "                                                                     '```'}}}],\n",
      "             'role': 'user'},\n",
      " 'id': '2erLYkHz',\n",
      " 'invocation_id': 'e-64c4472e-b5d1-4ef9-890e-3bd3a4cbdb42',\n",
      " 'timestamp': 1746727115.482375}\n"
     ]
    },
    {
     "name": "stderr",
     "output_type": "stream",
     "text": [
      "WARNING:google_genai.types:Warning: there are non-text parts in the response: ['function_call'],returning concatenated text result from text parts,check out the non text parts for full response from model.\n",
      "I0000 00:00:1746727117.917588 6796853 fork_posix.cc:75] Other threads are currently calling into gRPC, skipping fork() handlers\n"
     ]
    },
    {
     "name": "stdout",
     "output_type": "stream",
     "text": [
      "{'actions': {'artifact_delta': {}, 'requested_auth_configs': {}, 'state_delta': {}},\n",
      " 'author': 'root_agent',\n",
      " 'content': {'parts': [{'text': \"The most popular female name in the USA in 1994 was Jessica. Now, let's find out the meaning of the name \"\n",
      "                                'Jessica.\\n'\n",
      "                                '\\n'},\n",
      "                       {'function_call': {'args': {'question': 'meaning of the name Jessica'},\n",
      "                                          'id': 'adk-65d18cc6-a5d4-482a-8175-12336a35fae7',\n",
      "                                          'name': 'call_document_explorer_agent'}}],\n",
      "             'role': 'model'},\n",
      " 'id': '6qXmTtgk',\n",
      " 'invocation_id': 'e-64c4472e-b5d1-4ef9-890e-3bd3a4cbdb42',\n",
      " 'long_running_tool_ids': set(),\n",
      " 'timestamp': 1746727115.484625}\n",
      "{'actions': {'artifact_delta': {},\n",
      "             'requested_auth_configs': {},\n",
      "             'state_delta': {'documents_explorer_agent_output': 'I could not find information about the meaning of the name Jessica in the '\n",
      "                                                                'available documents.'}},\n",
      " 'author': 'root_agent',\n",
      " 'content': {'parts': [{'function_response': {'id': 'adk-65d18cc6-a5d4-482a-8175-12336a35fae7',\n",
      "                                              'name': 'call_document_explorer_agent',\n",
      "                                              'response': {'result': 'I could not find information about the meaning of the name Jessica '\n",
      "                                                                     'in the available documents.'}}}],\n",
      "             'role': 'user'},\n",
      " 'id': '0god1a5X',\n",
      " 'invocation_id': 'e-64c4472e-b5d1-4ef9-890e-3bd3a4cbdb42',\n",
      " 'timestamp': 1746727121.875233}\n",
      "{'actions': {'artifact_delta': {}, 'requested_auth_configs': {}, 'state_delta': {}},\n",
      " 'author': 'root_agent',\n",
      " 'content': {'parts': [{'text': '**Result:**\\n'\n",
      "                                \"The most popular female name in the USA in 1994 was Jessica, but I couldn't find its meaning in the \"\n",
      "                                'available documents.\\n'\n",
      "                                '\\n'\n",
      "                                '**Explanation:**\\n'\n",
      "                                '1.  I first used the `call_db_agent` to query the SQL database to find the most popular female name in '\n",
      "                                '1994. The SQL query returned \"Jessica\".\\n'\n",
      "                                '2.  Then, I used the `call_document_explorer_agent` to search for the meaning of the name \"Jessica\" in '\n",
      "                                'the available documents. The document search did not return any results.\\n'}],\n",
      "             'role': 'model'},\n",
      " 'id': 'CWzFPBX1',\n",
      " 'invocation_id': 'e-64c4472e-b5d1-4ef9-890e-3bd3a4cbdb42',\n",
      " 'timestamp': 1746727121.877505}\n"
     ]
    }
   ],
   "source": [
    "for event in agent_engine.stream_query(message=\"What about the female?\", user_id=\"test\", session_id=latest_session):\n",
    "    pretty_print(event, width=140)"
   ]
  },
  {
   "cell_type": "code",
   "execution_count": null,
   "metadata": {},
   "outputs": [],
   "source": []
  },
  {
   "cell_type": "code",
   "execution_count": 24,
   "metadata": {},
   "outputs": [],
   "source": [
    "# Registering Feedback for last inraction \n",
    "last_invocation_id = event['invocation_id']\n",
    "\n",
    "\n",
    "feed_back = {\n",
    "    'score': 5,\n",
    "    'text': \"It was a great response!\",\n",
    "    'invocation_id': last_invocation_id,\n",
    "    'user_id': 'test'\n",
    "}\n",
    "\n",
    "\n",
    "agent_engine.register_feedback(feed_back)"
   ]
  },
  {
   "cell_type": "markdown",
   "metadata": {},
   "source": [
    "### Remote Testing"
   ]
  },
  {
   "cell_type": "code",
   "execution_count": null,
   "metadata": {},
   "outputs": [],
   "source": [
    "# Replace with your Agent Engine ID\n",
    "AGENT_ENGINE_ID = \"projects/PROJECT_ID/locations/us-central1/reasoningEngines/ENGINE_ID\""
   ]
  },
  {
   "cell_type": "code",
   "execution_count": null,
   "metadata": {},
   "outputs": [],
   "source": [
    "remote_agent_engine = vertexai.agent_engines.get(AGENT_ENGINE_ID)"
   ]
  },
  {
   "cell_type": "code",
   "execution_count": null,
   "metadata": {},
   "outputs": [],
   "source": [
    "for event in remote_agent_engine.stream_query(message=\"hi!\", user_id=\"test\"):\n",
    "    print(event)"
   ]
  },
  {
   "cell_type": "code",
   "execution_count": null,
   "metadata": {},
   "outputs": [],
   "source": [
    "remote_agent_engine.register_feedback(\n",
    "    feedback={\n",
    "        \"score\": 5,\n",
    "        \"text\": \"Great response!\",\n",
    "        \"invocation_id\": \"test-invocation-123\",\n",
    "        \"user_id\": \"test\",\n",
    "    }\n",
    ")"
   ]
  },
  {
   "cell_type": "markdown",
   "metadata": {},
   "source": [
    "## If you are using Cloud Run"
   ]
  },
  {
   "cell_type": "markdown",
   "metadata": {},
   "source": [
    "### Local Testing\n",
    "\n",
    "> You can run the application locally via the `make backend` command."
   ]
  },
  {
   "cell_type": "markdown",
   "metadata": {},
   "source": [
    "#### Create a session\n",
    " Create a new session with user preferences and state information\n"
   ]
  },
  {
   "cell_type": "code",
   "execution_count": null,
   "metadata": {},
   "outputs": [],
   "source": [
    "user_id = \"test_user_123\"\n",
    "session_id = \"test_session_456\"\n",
    "session_data = {\"state\": {\"preferred_language\": \"English\", \"visit_count\": 1}}\n",
    "\n",
    "session_url = f\"http://127.0.0.1:8000/apps/app/users/{user_id}/sessions/{session_id}\"\n",
    "headers = {\"Content-Type\": \"application/json\"}\n",
    "\n",
    "session_response = requests.post(session_url, headers=headers, json=session_data)\n",
    "print(f\"Session creation status code: {session_response.status_code}\")"
   ]
  },
  {
   "cell_type": "markdown",
   "metadata": {},
   "source": [
    "#### Send a message\n",
    "Send a message to the backend service and receive a streaming response\n"
   ]
  },
  {
   "cell_type": "code",
   "execution_count": 4,
   "metadata": {},
   "outputs": [
    {
     "name": "stdout",
     "output_type": "stream",
     "text": [
      "Message send status code: 200\n",
      "Received event: {'content': {'parts': [{'text': 'I'}], 'role': 'model'}, 'partial': True, 'usageMetadata': {'trafficType': 'ON_DEMAND'}, 'invocationId': 'e-2e3d59c3-5325-4f16-a0a2-91e5813e65de', 'author': 'root_agent', 'actions': {'stateDelta': {}, 'artifactDelta': {}, 'requestedAuthConfigs': {}}, 'id': 'ja9RJSgE', 'timestamp': 1748389275.373852}\n",
      "Received event: {'content': {'parts': [{'text': ' can query the document data store to find the meaning of the name \"Michael\".\\n\\n'}], 'role': 'model'}, 'partial': True, 'usageMetadata': {'trafficType': 'ON_DEMAND'}, 'invocationId': 'e-2e3d59c3-5325-4f16-a0a2-91e5813e65de', 'author': 'root_agent', 'actions': {'stateDelta': {}, 'artifactDelta': {}, 'requestedAuthConfigs': {}}, 'id': 'auzxVJya', 'timestamp': 1748389275.373852}\n",
      "Received event: {'content': {'parts': [{'text': 'I can query the document data store to find the meaning of the name \"Michael\".\\n\\n'}], 'role': 'model'}, 'usageMetadata': {'candidatesTokenCount': 31, 'candidatesTokensDetails': [{'modality': 'TEXT', 'tokenCount': 31}], 'promptTokenCount': 3472, 'promptTokensDetails': [{'modality': 'TEXT', 'tokenCount': 3472}], 'totalTokenCount': 3503, 'trafficType': 'ON_DEMAND'}, 'invocationId': 'e-2e3d59c3-5325-4f16-a0a2-91e5813e65de', 'author': 'root_agent', 'actions': {'stateDelta': {}, 'artifactDelta': {}, 'requestedAuthConfigs': {}}, 'id': 'OMBVuh8J', 'timestamp': 1748389275.373852}\n",
      "Received event: {'content': {'parts': [{'functionCall': {'id': 'adk-8d4c7325-0d91-4ca8-9f27-b27774e6a12a', 'args': {'question': 'meaning of the name Michael'}, 'name': 'call_document_explorer_agent'}}], 'role': 'model'}, 'usageMetadata': {'candidatesTokenCount': 31, 'candidatesTokensDetails': [{'modality': 'TEXT', 'tokenCount': 31}], 'promptTokenCount': 3472, 'promptTokensDetails': [{'modality': 'TEXT', 'tokenCount': 3472}], 'totalTokenCount': 3503, 'trafficType': 'ON_DEMAND'}, 'invocationId': 'e-2e3d59c3-5325-4f16-a0a2-91e5813e65de', 'author': 'root_agent', 'actions': {'stateDelta': {}, 'artifactDelta': {}, 'requestedAuthConfigs': {}}, 'longRunningToolIds': [], 'id': 'IDx7Gub5', 'timestamp': 1748389275.373852}\n",
      "Received event: {'content': {'parts': [{'functionResponse': {'id': 'adk-8d4c7325-0d91-4ca8-9f27-b27774e6a12a', 'name': 'call_document_explorer_agent', 'response': {'result': 'The name Michael means \"who is like God.\"\\n\\nCitations:\\n* THE MAGIC OF NAMES - THEIR ORIGIN AND MEANING, Chapter 2: Hebrew Names'}}}], 'role': 'user'}, 'invocationId': 'e-2e3d59c3-5325-4f16-a0a2-91e5813e65de', 'author': 'root_agent', 'actions': {'stateDelta': {'documents_explorer_agent_output': 'The name Michael means \"who is like God.\"\\n\\nCitations:\\n* THE MAGIC OF NAMES - THEIR ORIGIN AND MEANING, Chapter 2: Hebrew Names'}, 'artifactDelta': {}, 'requestedAuthConfigs': {}}, 'id': '4qtHnZIm', 'timestamp': 1748389284.773017}\n",
      "Received event: {'content': {'parts': [{'text': '**Result:** The'}], 'role': 'model'}, 'partial': True, 'usageMetadata': {'trafficType': 'ON_DEMAND'}, 'invocationId': 'e-2e3d59c3-5325-4f16-a0a2-91e5813e65de', 'author': 'root_agent', 'actions': {'stateDelta': {}, 'artifactDelta': {}, 'requestedAuthConfigs': {}}, 'id': 'G6vCSpyS', 'timestamp': 1748389286.51123}\n",
      "Received event: {'content': {'parts': [{'text': ' name Michael means \"who is like God.\"\\n\\n**Explanation:** I queried the document data store'}], 'role': 'model'}, 'partial': True, 'usageMetadata': {'trafficType': 'ON_DEMAND'}, 'invocationId': 'e-2e3d59c3-5325-4f16-a0a2-91e5813e65de', 'author': 'root_agent', 'actions': {'stateDelta': {}, 'artifactDelta': {}, 'requestedAuthConfigs': {}}, 'id': '6By3jTn2', 'timestamp': 1748389286.51123}\n",
      "Received event: {'content': {'parts': [{'text': ' for the meaning of the name Michael and found the answer in \"THE MAGIC OF NAMES'}], 'role': 'model'}, 'partial': True, 'usageMetadata': {'trafficType': 'ON_DEMAND'}, 'invocationId': 'e-2e3d59c3-5325-4f16-a0a2-91e5813e65de', 'author': 'root_agent', 'actions': {'stateDelta': {}, 'artifactDelta': {}, 'requestedAuthConfigs': {}}, 'id': '3u2jxKye', 'timestamp': 1748389286.51123}\n",
      "Received event: {'content': {'parts': [{'text': ' - THEIR ORIGIN AND MEANING\" document.\\n'}], 'role': 'model'}, 'partial': True, 'usageMetadata': {'candidatesTokenCount': 50, 'candidatesTokensDetails': [{'modality': 'TEXT', 'tokenCount': 50}], 'promptTokenCount': 3543, 'promptTokensDetails': [{'modality': 'TEXT', 'tokenCount': 3543}], 'totalTokenCount': 3593, 'trafficType': 'ON_DEMAND'}, 'invocationId': 'e-2e3d59c3-5325-4f16-a0a2-91e5813e65de', 'author': 'root_agent', 'actions': {'stateDelta': {}, 'artifactDelta': {}, 'requestedAuthConfigs': {}}, 'id': 'A5b2dSAg', 'timestamp': 1748389286.51123}\n",
      "Received event: {'content': {'parts': [{'text': '**Result:** The name Michael means \"who is like God.\"\\n\\n**Explanation:** I queried the document data store for the meaning of the name Michael and found the answer in \"THE MAGIC OF NAMES - THEIR ORIGIN AND MEANING\" document.\\n'}], 'role': 'model'}, 'invocationId': 'e-2e3d59c3-5325-4f16-a0a2-91e5813e65de', 'author': 'root_agent', 'actions': {'stateDelta': {}, 'artifactDelta': {}, 'requestedAuthConfigs': {}}, 'id': 'CLuNIunI', 'timestamp': 1748389286.51123}\n"
     ]
    }
   ],
   "source": [
    "message_data = {\n",
    "    \"app_name\": \"data_explorer_agent\",\n",
    "    \"user_id\": 'user',\n",
    "    \"session_id\": 'eca7976b-ee70-4dbc-9e48-a76f14a2b2e2',\n",
    "    \"new_message\": {\"role\": \"user\", \"parts\": [{\"text\": \"What is the meaning of this name?\"}]},\n",
    "    \"streaming\": True,\n",
    "}\n",
    "headers = {\"Content-Type\": \"application/json\"}\n",
    "\n",
    "message_url = \"http://127.0.0.1:8000/run_sse\"\n",
    "message_response = requests.post(\n",
    "    message_url, headers=headers, json=message_data, stream=True\n",
    ")\n",
    "\n",
    "print(f\"Message send status code: {message_response.status_code}\")\n",
    "\n",
    "# Print streamed response\n",
    "for line in message_response.iter_lines():\n",
    "    if line:\n",
    "        line_str = line.decode(\"utf-8\")\n",
    "        if line_str.startswith(\"data: \"):\n",
    "            event_json = line_str[6:]\n",
    "            event = json.loads(event_json)\n",
    "            print(f\"Received event: {event}\")"
   ]
  },
  {
   "cell_type": "markdown",
   "metadata": {},
   "source": [
    "#### Remote Testing\n",
    "\n",
    "For more information about authenticating HTTPS requests to Cloud Run services, see:\n",
    "[Cloud Run Authentication Documentation](https://cloud.google.com/run/docs/triggering/https-request)\n",
    "\n",
    "Remote testing involves using a deployed service URL instead of localhost.\n",
    "\n",
    "Authentication is handled using GCP identity tokens instead of local credentials."
   ]
  },
  {
   "cell_type": "code",
   "execution_count": null,
   "metadata": {},
   "outputs": [],
   "source": [
    "ID_TOKEN = get_ipython().getoutput(\"gcloud auth print-identity-token -q\")[0]"
   ]
  },
  {
   "cell_type": "code",
   "execution_count": null,
   "metadata": {},
   "outputs": [],
   "source": [
    "SERVICE_URL = \"YOUR_SERVICE_URL_HERE\"  # Replace with your Cloud Run service URL"
   ]
  },
  {
   "cell_type": "markdown",
   "metadata": {},
   "source": [
    "You'll need to first create a Session"
   ]
  },
  {
   "cell_type": "code",
   "execution_count": null,
   "metadata": {},
   "outputs": [],
   "source": [
    "user_id = \"test_user_123\"\n",
    "session_id = \"test_session_456\"\n",
    "session_data = {\"state\": {\"preferred_language\": \"English\", \"visit_count\": 1}}\n",
    "\n",
    "session_url = f\"{SERVICE_URL}/apps/app/users/{user_id}/sessions/{session_id}\"\n",
    "headers = {\"Content-Type\": \"application/json\", \"Authorization\": f\"Bearer {ID_TOKEN}\"}\n",
    "\n",
    "session_response = requests.post(session_url, headers=headers, json=session_data)\n",
    "print(f\"Session creation status code: {session_response.status_code}\")"
   ]
  },
  {
   "cell_type": "markdown",
   "metadata": {},
   "source": [
    "Then you will be able to send a message"
   ]
  },
  {
   "cell_type": "code",
   "execution_count": null,
   "metadata": {},
   "outputs": [],
   "source": [
    "message_data = {\n",
    "    \"app_name\": \"app\",\n",
    "    \"user_id\": user_id,\n",
    "    \"session_id\": session_id,\n",
    "    \"new_message\": {\"role\": \"user\", \"parts\": [{\"text\": \"Hello! Weather in New york?\"}]},\n",
    "    \"streaming\": True,\n",
    "}\n",
    "\n",
    "message_url = f\"{SERVICE_URL}/run_sse\"\n",
    "message_response = requests.post(\n",
    "    message_url, headers=headers, json=message_data, stream=True\n",
    ")\n",
    "\n",
    "print(f\"Message send status code: {message_response.status_code}\")\n",
    "\n",
    "# Print streamed response\n",
    "for line in message_response.iter_lines():\n",
    "    if line:\n",
    "        line_str = line.decode(\"utf-8\")\n",
    "        if line_str.startswith(\"data: \"):\n",
    "            event_json = line_str[6:]\n",
    "            event = json.loads(event_json)\n",
    "            print(f\"Received event: {event}\")"
   ]
  }
 ],
 "metadata": {
  "kernelspec": {
   "display_name": ".venv",
   "language": "python",
   "name": "python3"
  },
  "language_info": {
   "codemirror_mode": {
    "name": "ipython",
    "version": 3
   },
   "file_extension": ".py",
   "mimetype": "text/x-python",
   "name": "python",
   "nbconvert_exporter": "python",
   "pygments_lexer": "ipython3",
   "version": "3.12.8"
  }
 },
 "nbformat": 4,
 "nbformat_minor": 2
}
