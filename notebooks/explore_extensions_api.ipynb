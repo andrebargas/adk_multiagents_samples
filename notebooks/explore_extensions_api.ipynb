{
 "cells": [
  {
   "cell_type": "code",
   "execution_count": null,
   "id": "88715aca",
   "metadata": {},
   "outputs": [],
   "source": [
    "#  Copyright 2025 Google LLC. This software is provided as-is, without warranty\n",
    "#  or representation for any use or purpose. Your use of it is subject to your\n",
    "#  agreement with Google."
   ]
  },
  {
   "cell_type": "code",
   "execution_count": 38,
   "id": "a9d008e7",
   "metadata": {},
   "outputs": [],
   "source": [
    "PROJECT = \"andrebargas-sandbox\"\n",
    "REGION = \"us-central1\""
   ]
  },
  {
   "cell_type": "code",
   "execution_count": 39,
   "id": "3d05254b",
   "metadata": {},
   "outputs": [],
   "source": [
    "from vertexai.preview.extensions import Extension\n",
    "import google.cloud.aiplatform as aiplatform\n",
    "from typing import Optional \n",
    "\n",
    "\n",
    "\n",
    "def list_extensions(project: str, location: str, filter: Optional[str] = None, order_by: Optional[str] = None,):\n",
    "    try:\n",
    "        current_config = aiplatform.initializer.global_config\n",
    "        if current_config.project != project or current_config.location != location:\n",
    "            aiplatform.init(project=project, location=location)\n",
    "\n",
    "        all_extensions = Extension.list(filter=filter, order_by=order_by)\n",
    "        if not all_extensions:\n",
    "            print(\"No extensions found in this project and location.\")\n",
    "            return []  # Return an empty list if no extensions are found\n",
    "        return all_extensions\n",
    "    except AttributeError as e:\n",
    "        print(f\"Vertex AI SDK may not be properly initialized. Error: {e}\")\n",
    "        return None\n",
    "    except Exception as e:\n",
    "        print(f\"An error occurred while listing extensions: {e}\")\n",
    "        return None"
   ]
  },
  {
   "cell_type": "code",
   "execution_count": 40,
   "id": "7594501b",
   "metadata": {},
   "outputs": [],
   "source": [
    "all_extensions = list_extensions(PROJECT, REGION)"
   ]
  },
  {
   "cell_type": "code",
   "execution_count": 41,
   "id": "cd76edd3",
   "metadata": {},
   "outputs": [
    {
     "name": "stdout",
     "output_type": "stream",
     "text": [
      "  Display Name: Code Interpreter\n",
      "  Resource Name: projects/18372420718/locations/us-central1/extensions/4773007463966310400\n",
      "--------------------\n",
      "  Display Name: Code Interpreter\n",
      "  Resource Name: projects/18372420718/locations/us-central1/extensions/2953834689485340672\n",
      "--------------------\n",
      "  Display Name: Code Interpreter\n",
      "  Resource Name: projects/18372420718/locations/us-central1/extensions/6818767594699358208\n",
      "--------------------\n",
      "  Display Name: Code Interpreter\n",
      "  Resource Name: projects/18372420718/locations/us-central1/extensions/306175505428643840\n",
      "--------------------\n",
      "  Display Name: Code Interpreter\n",
      "  Resource Name: projects/18372420718/locations/us-central1/extensions/8699553702266011648\n",
      "--------------------\n",
      "  Display Name: Code Interpreter\n",
      "  Resource Name: projects/18372420718/locations/us-central1/extensions/4754400428689457152\n",
      "--------------------\n",
      "  Display Name: Code Interpreter\n",
      "  Resource Name: projects/18372420718/locations/us-central1/extensions/5110184799251726336\n",
      "--------------------\n",
      "  Display Name: Code Interpreter\n",
      "  Resource Name: projects/18372420718/locations/us-central1/extensions/498498780824338432\n",
      "--------------------\n",
      "  Display Name: Code Interpreter\n",
      "  Resource Name: projects/18372420718/locations/us-central1/extensions/7420531408092790784\n",
      "--------------------\n",
      "  Display Name: Code Interpreter\n",
      "  Resource Name: projects/18372420718/locations/us-central1/extensions/4770725977338675200\n",
      "--------------------\n",
      "  Display Name: Code Interpreter\n",
      "  Resource Name: projects/18372420718/locations/us-central1/extensions/4180191476199718912\n",
      "--------------------\n",
      "  Display Name: Code Interpreter\n",
      "  Resource Name: projects/18372420718/locations/us-central1/extensions/5281321585091805184\n",
      "--------------------\n",
      "  Display Name: Code Interpreter\n",
      "  Resource Name: projects/18372420718/locations/us-central1/extensions/1309146713751027712\n",
      "--------------------\n",
      "  Display Name: Code Interpreter\n",
      "  Resource Name: projects/18372420718/locations/us-central1/extensions/6813389883327905792\n",
      "--------------------\n",
      "  Display Name: Code Interpreter\n",
      "  Resource Name: projects/18372420718/locations/us-central1/extensions/4114889281602846720\n",
      "--------------------\n",
      "  Display Name: Code Interpreter\n",
      "  Resource Name: projects/18372420718/locations/us-central1/extensions/7585392181561524224\n",
      "--------------------\n"
     ]
    }
   ],
   "source": [
    "for ext in all_extensions:\n",
    "    print(f\"  Display Name: {ext.display_name}\")\n",
    "    print(f\"  Resource Name: {ext.resource_name}\")\n",
    "    print(\"-\" * 20)"
   ]
  },
  {
   "cell_type": "code",
   "execution_count": 42,
   "id": "43959522",
   "metadata": {},
   "outputs": [],
   "source": [
    "\n",
    "def get_lastest_code_interpreter():\n",
    "\n",
    "    code_interpreter_only_filter = 'display_name=\"Code Interpreter\"'\n",
    "    lastest_order_by = \"create_time desc\"\n",
    "\n",
    "    extensions = list_extensions(project=PROJECT, location=REGION, filter=code_interpreter_only_filter, order_by=lastest_order_by)\n",
    "\n",
    "    return extensions[0] if extensions else None"
   ]
  },
  {
   "cell_type": "code",
   "execution_count": 43,
   "id": "00d8ef4c",
   "metadata": {},
   "outputs": [
    {
     "data": {
      "text/plain": [
       "<vertexai.extensions._extensions.Extension object at 0x157647a10> \n",
       "resource name: projects/18372420718/locations/us-central1/extensions/4773007463966310400"
      ]
     },
     "execution_count": 43,
     "metadata": {},
     "output_type": "execute_result"
    }
   ],
   "source": [
    "get_lastest_code_interpreter()"
   ]
  },
  {
   "cell_type": "code",
   "execution_count": 45,
   "id": "31388cf4",
   "metadata": {},
   "outputs": [
    {
     "data": {
      "text/plain": [
       "'projects/18372420718/locations/us-central1/extensions/7585392181561524224'"
      ]
     },
     "execution_count": 45,
     "metadata": {},
     "output_type": "execute_result"
    }
   ],
   "source": [
    "ext.resource_name"
   ]
  },
  {
   "cell_type": "code",
   "execution_count": null,
   "id": "bebac76e",
   "metadata": {},
   "outputs": [],
   "source": []
  }
 ],
 "metadata": {
  "kernelspec": {
   "display_name": ".venv",
   "language": "python",
   "name": "python3"
  },
  "language_info": {
   "codemirror_mode": {
    "name": "ipython",
    "version": 3
   },
   "file_extension": ".py",
   "mimetype": "text/x-python",
   "name": "python",
   "nbconvert_exporter": "python",
   "pygments_lexer": "ipython3",
   "version": "3.12.8"
  }
 },
 "nbformat": 4,
 "nbformat_minor": 5
}
